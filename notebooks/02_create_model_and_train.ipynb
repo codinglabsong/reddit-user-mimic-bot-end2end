{
 "cells": [
  {
   "cell_type": "markdown",
   "id": "8cadd686",
   "metadata": {},
   "source": [
    "## Build Base LoRA Model"
   ]
  },
  {
   "cell_type": "code",
   "execution_count": 1,
   "id": "d11f98e1",
   "metadata": {},
   "outputs": [
    {
     "name": "stderr",
     "output_type": "stream",
     "text": [
      "/home/jsooh/ssd/t5/envs/conda_envs/travel/lib/python3.10/site-packages/tqdm/auto.py:21: TqdmWarning: IProgress not found. Please update jupyter and ipywidgets. See https://ipywidgets.readthedocs.io/en/stable/user_install.html\n",
      "  from .autonotebook import tqdm as notebook_tqdm\n"
     ]
    },
    {
     "name": "stdout",
     "output_type": "stream",
     "text": [
      "Logged into Hugging Face Hub\n"
     ]
    }
   ],
   "source": [
    "from korea_travel_guide.utils import load_environ_vars\n",
    "from korea_travel_guide.model import build_base_model, build_peft_model\n",
    "\n",
    "load_environ_vars()"
   ]
  },
  {
   "cell_type": "code",
   "execution_count": 2,
   "id": "9123fce1",
   "metadata": {},
   "outputs": [
    {
     "data": {
      "text/plain": [
       "1024"
      ]
     },
     "execution_count": 2,
     "metadata": {},
     "output_type": "execute_result"
    }
   ],
   "source": [
    "base_model = build_base_model()\n",
    "# base_model\n",
    "base_model.config.max_position_embeddings"
   ]
  }
 ],
 "metadata": {
  "kernelspec": {
   "display_name": "travel",
   "language": "python",
   "name": "python3"
  },
  "language_info": {
   "codemirror_mode": {
    "name": "ipython",
    "version": 3
   },
   "file_extension": ".py",
   "mimetype": "text/x-python",
   "name": "python",
   "nbconvert_exporter": "python",
   "pygments_lexer": "ipython3",
   "version": "3.10.18"
  }
 },
 "nbformat": 4,
 "nbformat_minor": 5
}
